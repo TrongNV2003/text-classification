{
  "nbformat": 4,
  "nbformat_minor": 0,
  "metadata": {
    "colab": {
      "provenance": [],
      "gpuType": "T4"
    },
    "kernelspec": {
      "name": "python3",
      "display_name": "Python 3"
    },
    "language_info": {
      "name": "python"
    },
    "accelerator": "GPU"
  },
  "cells": [
    {
      "cell_type": "code",
      "execution_count": 1,
      "metadata": {
        "colab": {
          "base_uri": "https://localhost:8080/"
        },
        "id": "rdh1gAgkzORN",
        "outputId": "08edc08c-b518-4b72-98bc-265a5fb0e9dc"
      },
      "outputs": [
        {
          "output_type": "stream",
          "name": "stdout",
          "text": [
            "Cloning into 'text-classification'...\n",
            "remote: Enumerating objects: 320, done.\u001b[K\n",
            "remote: Counting objects: 100% (320/320), done.\u001b[K\n",
            "remote: Compressing objects: 100% (174/174), done.\u001b[K\n",
            "remote: Total 320 (delta 184), reused 273 (delta 140), pack-reused 0 (from 0)\u001b[K\n",
            "Receiving objects: 100% (320/320), 309.51 KiB | 1.41 MiB/s, done.\n",
            "Resolving deltas: 100% (184/184), done.\n"
          ]
        }
      ],
      "source": [
        "!git clone https://github.com/TrongNV2003/text-classification.git"
      ]
    },
    {
      "cell_type": "code",
      "source": [
        "cd text-classification"
      ],
      "metadata": {
        "colab": {
          "base_uri": "https://localhost:8080/"
        },
        "id": "c1_0eoWkzTLd",
        "outputId": "b888a2f0-235a-4dc3-c085-33e6bfbb5951"
      },
      "execution_count": 2,
      "outputs": [
        {
          "output_type": "stream",
          "name": "stdout",
          "text": [
            "/content/text-classification\n"
          ]
        }
      ]
    },
    {
      "cell_type": "code",
      "source": [
        "!mkdir models"
      ],
      "metadata": {
        "id": "ImTl4RXbnAiI"
      },
      "execution_count": 13,
      "outputs": []
    },
    {
      "cell_type": "code",
      "source": [
        "# tải model word2vec từ link: https://github.com/sonvx/word2vecVN\n",
        "# save vào folder models"
      ],
      "metadata": {
        "id": "FOilTywenFlX"
      },
      "execution_count": null,
      "outputs": []
    },
    {
      "cell_type": "code",
      "source": [
        "!python CNN.py"
      ],
      "metadata": {
        "colab": {
          "base_uri": "https://localhost:8080/"
        },
        "id": "iha0ozZxzW-n",
        "outputId": "122913a4-56cc-4f41-c015-a66ef18b02ff"
      },
      "execution_count": 5,
      "outputs": [
        {
          "output_type": "stream",
          "name": "stdout",
          "text": [
            "Training on GPU.\n",
            "CNN(\n",
            "  (embedding): Embedding(231488, 400)\n",
            "  (convs_1d): ModuleList(\n",
            "    (0): Conv2d(1, 100, kernel_size=(3, 400), stride=(1, 1), padding=(1, 0))\n",
            "    (1): Conv2d(1, 100, kernel_size=(4, 400), stride=(1, 1), padding=(2, 0))\n",
            "    (2): Conv2d(1, 100, kernel_size=(5, 400), stride=(1, 1), padding=(3, 0))\n",
            "  )\n",
            "  (full_connected): Linear(in_features=300, out_features=1, bias=True)\n",
            "  (dropout): Dropout(p=0.5, inplace=False)\n",
            "  (sigmoid): Sigmoid()\n",
            ")\n",
            "dtype torch.float32\n",
            "Epoch: 1/5 Train Loss: 0.667434 Val Loss: 0.520761 Time: 7.72s\n",
            "Epoch: 2/5 Train Loss: 0.407094 Val Loss: 0.770121 Time: 5.81s\n",
            "Epoch: 3/5 Train Loss: 0.300516 Val Loss: 0.567079 Time: 5.82s\n",
            "Epoch: 4/5 Train Loss: 0.190263 Val Loss: 0.533216 Time: 5.84s\n",
            "Epoch: 5/5 Train Loss: 0.145519 Val Loss: 0.565409 Time: 5.82s\n",
            "Model loaded from CNN_model/model_checkpoint_3.pth\n",
            "Test loss: 0.567\n",
            "Accuracy: 0.733\n",
            "F1-score: 77.491\n",
            "P95 Latency: 0.929 ms\n",
            "Average: 0.657 ms\n"
          ]
        }
      ]
    },
    {
      "cell_type": "code",
      "source": [
        "!python RNN.py"
      ],
      "metadata": {
        "id": "Eyc_VKNBZfu6",
        "outputId": "82a19eae-caff-4906-eb75-a5861c0e86a1",
        "colab": {
          "base_uri": "https://localhost:8080/"
        }
      },
      "execution_count": 6,
      "outputs": [
        {
          "output_type": "stream",
          "name": "stdout",
          "text": [
            "Training on GPU.\n",
            "RNN(\n",
            "  (embedding): Embedding(231489, 400)\n",
            "  (lstm): LSTM(400, 256, num_layers=2, batch_first=True, dropout=0.5)\n",
            "  (dropout): Dropout(p=0.5, inplace=False)\n",
            "  (full_connected): Linear(in_features=256, out_features=1, bias=True)\n",
            "  (sig): Sigmoid()\n",
            ")\n",
            "dtype torch.float32\n",
            "Epoch: 1/5 Train Loss: 0.611258 Val Loss: 0.543194 Time: 8.71s\n",
            "Epoch: 2/5 Train Loss: 0.428002 Val Loss: 0.537631 Time: 7.76s\n",
            "Epoch: 3/5 Train Loss: 0.238553 Val Loss: 0.732543 Time: 7.80s\n",
            "Epoch: 4/5 Train Loss: 0.102657 Val Loss: 0.898105 Time: 7.70s\n",
            "Epoch: 5/5 Train Loss: 0.049476 Val Loss: 1.047812 Time: 7.66s\n",
            "Model loaded from RNN_model/model_checkpoint_3.pth\n",
            "Test loss: 0.733\n",
            "Accuracy: 0.727\n",
            "F1-score: 73.231\n",
            "P95 Latency: 5.208 ms\n",
            "Average: 3.755 ms\n"
          ]
        }
      ]
    },
    {
      "cell_type": "code",
      "source": [
        "!python SVM.py"
      ],
      "metadata": {
        "id": "sviDYeQCZfp5",
        "outputId": "439f57ff-ba05-41cd-8272-219ace899924",
        "colab": {
          "base_uri": "https://localhost:8080/"
        }
      },
      "execution_count": 9,
      "outputs": [
        {
          "output_type": "stream",
          "name": "stdout",
          "text": [
            "Training time: 0.919562\n",
            "\n",
            "F1-score: 79.403\n",
            "P95 Latency: 1.373 ms\n",
            "Average: 0.983 ms\n"
          ]
        }
      ]
    },
    {
      "cell_type": "code",
      "source": [
        "!python NaiveBayes.py"
      ],
      "metadata": {
        "id": "53avi3oaZfnX",
        "outputId": "de407f76-0ff7-4e6c-80d1-0c7774854831",
        "colab": {
          "base_uri": "https://localhost:8080/"
        }
      },
      "execution_count": 10,
      "outputs": [
        {
          "output_type": "stream",
          "name": "stdout",
          "text": [
            "Training time: 0.007706\n",
            "F1-score: 78.443\n",
            "P95 Latency: 0.327 ms\n",
            "Average: 0.302 ms\n"
          ]
        }
      ]
    },
    {
      "cell_type": "code",
      "source": [
        "!python LogisticRegression.py"
      ],
      "metadata": {
        "id": "O0HoRRJdZfc_",
        "outputId": "287b0e35-f3c9-45a4-aaaa-d49cadaa7f32",
        "colab": {
          "base_uri": "https://localhost:8080/"
        }
      },
      "execution_count": 11,
      "outputs": [
        {
          "output_type": "stream",
          "name": "stdout",
          "text": [
            "Training time: 0.032776\n",
            "F1-score: 80.352\n",
            "P95 Latency: 0.181 ms\n",
            "Average: 0.147 ms\n"
          ]
        }
      ]
    },
    {
      "cell_type": "code",
      "source": [
        "!python BERT.py"
      ],
      "metadata": {
        "colab": {
          "base_uri": "https://localhost:8080/"
        },
        "id": "dl65GKSNIGJY",
        "outputId": "b8fd0301-bb9f-4b56-e494-e8a689e0ea4b"
      },
      "execution_count": 12,
      "outputs": [
        {
          "output_type": "stream",
          "name": "stdout",
          "text": [
            "tokenizer_config.json: 100% 1.20k/1.20k [00:00<00:00, 7.83MB/s]\n",
            "vocab.txt: 100% 996k/996k [00:00<00:00, 13.9MB/s]\n",
            "tokenizer.json: 100% 2.92M/2.92M [00:00<00:00, 19.9MB/s]\n",
            "special_tokens_map.json: 100% 125/125 [00:00<00:00, 803kB/s]\n",
            "config.json: 100% 820/820 [00:00<00:00, 5.94MB/s]\n",
            "2024-12-28 18:44:44.382764: E external/local_xla/xla/stream_executor/cuda/cuda_fft.cc:485] Unable to register cuFFT factory: Attempting to register factory for plugin cuFFT when one has already been registered\n",
            "2024-12-28 18:44:44.399665: E external/local_xla/xla/stream_executor/cuda/cuda_dnn.cc:8454] Unable to register cuDNN factory: Attempting to register factory for plugin cuDNN when one has already been registered\n",
            "2024-12-28 18:44:44.405547: E external/local_xla/xla/stream_executor/cuda/cuda_blas.cc:1452] Unable to register cuBLAS factory: Attempting to register factory for plugin cuBLAS when one has already been registered\n",
            "2024-12-28 18:44:44.419291: I tensorflow/core/platform/cpu_feature_guard.cc:210] This TensorFlow binary is optimized to use available CPU instructions in performance-critical operations.\n",
            "To enable the following instructions: AVX2 FMA, in other operations, rebuild TensorFlow with the appropriate compiler flags.\n",
            "2024-12-28 18:44:45.971995: W tensorflow/compiler/tf2tensorrt/utils/py_utils.cc:38] TF-TRT Warning: Could not find TensorRT\n",
            "model.safetensors: 100% 541M/541M [00:12<00:00, 42.2MB/s]\n",
            "epoch 1: 100% 149/149 [00:52<00:00,  2.83batches/s, train_loss=0.601]\n",
            "validation: 100% 42/42 [00:02<00:00, 17.54batches/s, valid_loss=0.429]\n",
            "Validation loss decreased from inf to 0.4290. Saving.\n",
            "epoch 2: 100% 149/149 [00:57<00:00,  2.59batches/s, train_loss=0.342]\n",
            "validation: 100% 42/42 [00:02<00:00, 17.27batches/s, valid_loss=0.436]\n",
            "epoch 3: 100% 149/149 [01:02<00:00,  2.39batches/s, train_loss=0.191]\n",
            "validation: 100% 42/42 [00:02<00:00, 17.55batches/s, valid_loss=0.504]\n",
            "F1-score: 80.425\n",
            "P95 Latency: 4.704 ms\n",
            "Average: 3.953 ms\n"
          ]
        }
      ]
    }
  ]
}
